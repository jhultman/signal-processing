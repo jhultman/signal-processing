{
 "cells": [
  {
   "cell_type": "markdown",
   "metadata": {},
   "source": [
    "### Four-channel Perfect Reconstruction Filter Bank\n",
    "(Code can be made available upon request)"
   ]
  },
  {
   "cell_type": "markdown",
   "metadata": {},
   "source": [
    "Here we implement a four channel filter bank in MATLAB and use it to perform band-specific processing on audio. We use an octave band scheme, decomposing the input into two low frequency bands (1/8th of signal bandwidth), one medium band (1/4th of signal bandwidth), and a high band (upper half of signal bandwidth). For filter design we use MATLAB's firpr2chfb(n, fp), with filter order $ n = 31 $ and passband-edge $ fp = 0.40 $.\n",
    "\n",
    "We then test our design by using the filter bank as an *equalizer*. That is, we apply different gains to the four bands of an incoming audio file, emphasizing certain octaves relative to others."
   ]
  },
  {
   "cell_type": "markdown",
   "metadata": {},
   "source": [
    "A diagram of our design:\n",
    "\n",
    "<img src=\"figures/filter-bank.png\">"
   ]
  },
  {
   "cell_type": "markdown",
   "metadata": {},
   "source": [
    "$ h_0, h_1, g_0, \\text{and } g_1 $ are chosen to be quadrature mirror filters. \n",
    "\n",
    "<img src=\"figures/qmf.jpg\" width=\"50%\">"
   ]
  },
  {
   "cell_type": "markdown",
   "metadata": {},
   "source": [
    "The filters are complementary low-pass and high-pass.\n",
    "\n",
    "<img src=\"figures/qmf-mag.jpg\" width=\"50%\">"
   ]
  },
  {
   "cell_type": "markdown",
   "metadata": {},
   "source": [
    "Note that the filters have roughly linear phase in the pass bands, which will give us constant group delay (important).\n",
    "\n",
    "<img src=\"figures/qmf-phase.jpg\" width=\"50%\">"
   ]
  },
  {
   "cell_type": "markdown",
   "metadata": {},
   "source": [
    "Here we send in a sum of sinusoids centered at the different bands and verify (near) perfect reconstruction.\n",
    "\n",
    "<img src=\"figures/reconstructing-sinusoids.jpg\" width=\"50%\">"
   ]
  },
  {
   "cell_type": "markdown",
   "metadata": {},
   "source": [
    "Here we use the filter bank for equalization, emphasizing certain octaves over others.\n",
    "\n",
    "<img src=\"figures/equalization.jpg\" width=\"50%\">"
   ]
  }
 ],
 "metadata": {
  "kernelspec": {
   "display_name": "Python 3",
   "language": "python",
   "name": "python3"
  },
  "language_info": {
   "codemirror_mode": {
    "name": "ipython",
    "version": 3
   },
   "file_extension": ".py",
   "mimetype": "text/x-python",
   "name": "python",
   "nbconvert_exporter": "python",
   "pygments_lexer": "ipython3",
   "version": "3.6.1"
  }
 },
 "nbformat": 4,
 "nbformat_minor": 2
}
