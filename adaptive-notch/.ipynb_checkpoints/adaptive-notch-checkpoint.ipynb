{
 "cells": [
  {
   "cell_type": "markdown",
   "metadata": {},
   "source": [
    "### Adaptive notch filter for sinusoidal noise removal\n",
    "(Code can be made available upon request)"
   ]
  },
  {
   "cell_type": "markdown",
   "metadata": {},
   "source": [
    "Here we use a form of unsupervised learning to implement an adaptive notch filter to remove large-amplitude sinusoidal interference at an unknown frequency. We then extend our design to handle cases in which the desired signal is contaminated by *multiple* sinusoids at different frequencies. Next we test our adaptive filter in a dynamic setting, in which the frequency of the contaminating sinusoid changes (slowly and linearly) with time. Finally, we use our adaptive filter as a sub-band processing unit in a four channel filter bank to remove sinusoidal interference present in each of the four octaves."
   ]
  },
  {
   "cell_type": "markdown",
   "metadata": {},
   "source": [
    "Adaptive notch for filtering high-amplitude sinusoidal noise of unknown frequency.\n",
    "\n",
    "<img src=\"figures/adap-notch-single-convergence.jpg\" width=\"50%\">"
   ]
  },
  {
   "cell_type": "markdown",
   "metadata": {},
   "source": [
    "Adaptive notch magnitude response after convergence:\n",
    "\n",
    "<img src=\"figures/adap-notch-single-mag.jpg\" width=\"50%\">"
   ]
  },
  {
   "cell_type": "markdown",
   "metadata": {},
   "source": [
    "Adaptive notch applied to signal contaminated with two sinusoids at different unknown frequencies.\n",
    "\n",
    "<img src=\"figures/adap-notch-double-convergence.jpg\" width=\"50%\">"
   ]
  },
  {
   "cell_type": "markdown",
   "metadata": {},
   "source": [
    "Adaptive notch magnitude response after convergence:\n",
    "\n",
    "<img src=\"figures/adap-notch-double-mag.jpg\" width=\"50%\">"
   ]
  },
  {
   "cell_type": "markdown",
   "metadata": {},
   "source": [
    "Adaptive notch applied to noise with an unknown and dynamically changing profile.\n",
    "\n",
    "<img src=\"figures/adap-notch-dynamic-convergence.jpg\" width=\"50%\">"
   ]
  },
  {
   "cell_type": "markdown",
   "metadata": {},
   "source": [
    "Adaptive notch applied as a sub-band processing unit in a four-channel perfect reconstruction filter bank (see my filter bank project).\n",
    "\n",
    "<img src=\"figures/adap-notch-filterbank-sum.jpg\" width=\"50%\">"
   ]
  },
  {
   "cell_type": "markdown",
   "metadata": {},
   "source": [
    "Parallel convergence of four adaptive notch filters in different octaves.\n",
    "\n",
    "<img src=\"figures/adap-notch-filterbank-octaves.jpg\" width=\"50%\">"
   ]
  }
 ],
 "metadata": {
  "kernelspec": {
   "display_name": "Python 3",
   "language": "python",
   "name": "python3"
  },
  "language_info": {
   "codemirror_mode": {
    "name": "ipython",
    "version": 3
   },
   "file_extension": ".py",
   "mimetype": "text/x-python",
   "name": "python",
   "nbconvert_exporter": "python",
   "pygments_lexer": "ipython3",
   "version": "3.6.1"
  }
 },
 "nbformat": 4,
 "nbformat_minor": 2
}
