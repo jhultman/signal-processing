{
 "cells": [
  {
   "cell_type": "markdown",
   "metadata": {},
   "source": [
    "### Adaptive notch filter for sinusoidal noise removal\n",
    "(Code can be made available upon request)"
   ]
  },
  {
   "cell_type": "markdown",
   "metadata": {},
   "source": [
    "Here we implement an adaptive notch filter to remove large-amplitude sinusoidal interference. We then extend our design to handle cases in which the desired signal is contaminated by *multiple* sinusoids at different frequencies. Next we test our adaptive filter in a dynamic setting, in which the frequency of the contaminating sinusoid changes (slowly and linearly) with time. Finally, we use our adaptive filter as a sub-band processing unit in a four channel filter bank to remove sinusoidal interference present in each of the four octaves."
   ]
  },
  {
   "cell_type": "markdown",
   "metadata": {},
   "source": [
    "Adaptive notch for filtering high amplitude noise with sinusoidal profile:\n",
    "\n",
    "<img src=\"figures/adap-notch.jpg\" width=\"50%\">"
   ]
  },
  {
   "cell_type": "markdown",
   "metadata": {},
   "source": [
    "Adaptice notch magnitude response after convergence:\n",
    "\n",
    "<img src=\"figures/adap-notch-single-mag.jpg\" width=\"50%\">"
   ]
  },
  {
   "cell_type": "markdown",
   "metadata": {},
   "source": [
    "Adaptive notch applied to signal contaminated with two sinusoids at different frequencies.\n",
    "\n",
    "<img src=\"figures/adap-notch-two-sinusoids.jpg\" width=\"50%\">"
   ]
  },
  {
   "cell_type": "markdown",
   "metadata": {},
   "source": [
    "Adaptice notch magnitude response after convergence:\n",
    "\n",
    "<img src=\"figures/adap-notch-double-mag.jpg\" width=\"50%\">"
   ]
  },
  {
   "cell_type": "markdown",
   "metadata": {},
   "source": [
    "Adaptive notch applied to noise with a dynamically changing profile.\n",
    "\n",
    "<img src=\"figures/adap-notch-slowly-changing.jpg\" width=\"50%\">"
   ]
  },
  {
   "cell_type": "markdown",
   "metadata": {},
   "source": [
    "Adaptive notch applied as a sub-band processing unit in a four-channel perfect reconstruction filter bank (see my other project).\n",
    "\n",
    "<img src=\"figures/adap-notch-filterbank.jpg\" width=\"50%\">"
   ]
  }
 ],
 "metadata": {
  "kernelspec": {
   "display_name": "Python 3",
   "language": "python",
   "name": "python3"
  },
  "language_info": {
   "codemirror_mode": {
    "name": "ipython",
    "version": 3
   },
   "file_extension": ".py",
   "mimetype": "text/x-python",
   "name": "python",
   "nbconvert_exporter": "python",
   "pygments_lexer": "ipython3",
   "version": "3.6.1"
  }
 },
 "nbformat": 4,
 "nbformat_minor": 2
}
