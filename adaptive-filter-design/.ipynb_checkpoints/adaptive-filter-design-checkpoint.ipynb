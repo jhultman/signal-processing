{
 "cells": [
  {
   "cell_type": "markdown",
   "metadata": {},
   "source": [
    "## Adaptive filtering for filter design\n",
    "Here we use a least-means-square adaptive update to *design* filters which are not of the low-pass, high-pass, band-pass, or band-stop form. We form an input signal as a sum of sinusoids covering a wide range of frequencies, and construct a desired response by attaching weights to each of the sinusoids in our input. We pass the input through our adaptive filter and use a traditional gradient descent against a least-means-square loss.\n",
    "\n",
    "We then use our scheme to design two nontrivial filters, the first being a combination of step functions in the frequency domain, and the second being a bandlimited differentiator which simply sends a signal $ x(t) $ to $ \\frac{dx}{dt} $, provided $ x $ has a spectrum in the frequency band of the differentiator."
   ]
  },
  {
   "cell_type": "markdown",
   "metadata": {},
   "source": [
    "Adaptive filtering for designing a non-traditional filter.\n",
    "\n",
    "<img src=\"figures/adap-filter-design-non-traditional.jpg\" width=\"50%\">"
   ]
  },
  {
   "cell_type": "markdown",
   "metadata": {},
   "source": [
    "Bandlimited differentiator magnitude response.\n",
    "\n",
    "<img src=\"figures/adap-filter-design-differentiator-mag.jpg\" width=\"50%\">"
   ]
  },
  {
   "cell_type": "markdown",
   "metadata": {},
   "source": [
    "Bandlimited differentiator phase response. (Note the near constant group delay in the passband.)\n",
    "\n",
    "<img src=\"figures/adap-filter-design-differentiator-phase.jpg\" width=\"50%\">"
   ]
  }
 ],
 "metadata": {
  "kernelspec": {
   "display_name": "Python 3",
   "language": "python",
   "name": "python3"
  },
  "language_info": {
   "codemirror_mode": {
    "name": "ipython",
    "version": 3
   },
   "file_extension": ".py",
   "mimetype": "text/x-python",
   "name": "python",
   "nbconvert_exporter": "python",
   "pygments_lexer": "ipython3",
   "version": "3.6.1"
  }
 },
 "nbformat": 4,
 "nbformat_minor": 2
}
